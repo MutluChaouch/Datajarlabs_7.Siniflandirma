{
 "cells": [
  {
   "cell_type": "markdown",
   "metadata": {},
   "source": [
    "## 7.3. Performans Olcum Metrikleri - Odev"
   ]
  },
  {
   "cell_type": "raw",
   "metadata": {},
   "source": [
    "Modelinizin performansına bu derste öğrendiğiniz metriklerlerle değerlendiriniz.\n",
    "ROC eğrisi ve Hassasiyet/Duyarlılık Eğrisini farklı \"c\" değerleri için çizdirin."
   ]
  },
  {
   "cell_type": "code",
   "execution_count": 20,
   "metadata": {},
   "outputs": [],
   "source": [
    "import pandas as pd\n",
    "import numpy as np\n",
    "from sklearn.linear_model import LogisticRegression\n",
    "from sklearn.model_selection import train_test_split\n",
    "from sklearn.metrics import confusion_matrix\n",
    "\n",
    "import warnings\n",
    "warnings.filterwarnings('ignore')"
   ]
  },
  {
   "cell_type": "code",
   "execution_count": 2,
   "metadata": {},
   "outputs": [
    {
     "data": {
      "text/html": [
       "<div>\n",
       "<style scoped>\n",
       "    .dataframe tbody tr th:only-of-type {\n",
       "        vertical-align: middle;\n",
       "    }\n",
       "\n",
       "    .dataframe tbody tr th {\n",
       "        vertical-align: top;\n",
       "    }\n",
       "\n",
       "    .dataframe thead th {\n",
       "        text-align: right;\n",
       "    }\n",
       "</style>\n",
       "<table border=\"1\" class=\"dataframe\">\n",
       "  <thead>\n",
       "    <tr style=\"text-align: right;\">\n",
       "      <th></th>\n",
       "      <th>PassengerId</th>\n",
       "      <th>Survived</th>\n",
       "      <th>Pclass</th>\n",
       "      <th>Name</th>\n",
       "      <th>Sex</th>\n",
       "      <th>Age</th>\n",
       "      <th>SibSp</th>\n",
       "      <th>Parch</th>\n",
       "      <th>Ticket</th>\n",
       "      <th>Fare</th>\n",
       "      <th>Cabin</th>\n",
       "      <th>Embarked</th>\n",
       "    </tr>\n",
       "  </thead>\n",
       "  <tbody>\n",
       "    <tr>\n",
       "      <th>0</th>\n",
       "      <td>1</td>\n",
       "      <td>0</td>\n",
       "      <td>3</td>\n",
       "      <td>Braund, Mr. Owen Harris</td>\n",
       "      <td>male</td>\n",
       "      <td>22.0</td>\n",
       "      <td>1</td>\n",
       "      <td>0</td>\n",
       "      <td>A/5 21171</td>\n",
       "      <td>7.2500</td>\n",
       "      <td>NaN</td>\n",
       "      <td>S</td>\n",
       "    </tr>\n",
       "    <tr>\n",
       "      <th>1</th>\n",
       "      <td>2</td>\n",
       "      <td>1</td>\n",
       "      <td>1</td>\n",
       "      <td>Cumings, Mrs. John Bradley (Florence Briggs Th...</td>\n",
       "      <td>female</td>\n",
       "      <td>38.0</td>\n",
       "      <td>1</td>\n",
       "      <td>0</td>\n",
       "      <td>PC 17599</td>\n",
       "      <td>71.2833</td>\n",
       "      <td>C85</td>\n",
       "      <td>C</td>\n",
       "    </tr>\n",
       "    <tr>\n",
       "      <th>2</th>\n",
       "      <td>3</td>\n",
       "      <td>1</td>\n",
       "      <td>3</td>\n",
       "      <td>Heikkinen, Miss. Laina</td>\n",
       "      <td>female</td>\n",
       "      <td>26.0</td>\n",
       "      <td>0</td>\n",
       "      <td>0</td>\n",
       "      <td>STON/O2. 3101282</td>\n",
       "      <td>7.9250</td>\n",
       "      <td>NaN</td>\n",
       "      <td>S</td>\n",
       "    </tr>\n",
       "    <tr>\n",
       "      <th>3</th>\n",
       "      <td>4</td>\n",
       "      <td>1</td>\n",
       "      <td>1</td>\n",
       "      <td>Futrelle, Mrs. Jacques Heath (Lily May Peel)</td>\n",
       "      <td>female</td>\n",
       "      <td>35.0</td>\n",
       "      <td>1</td>\n",
       "      <td>0</td>\n",
       "      <td>113803</td>\n",
       "      <td>53.1000</td>\n",
       "      <td>C123</td>\n",
       "      <td>S</td>\n",
       "    </tr>\n",
       "    <tr>\n",
       "      <th>4</th>\n",
       "      <td>5</td>\n",
       "      <td>0</td>\n",
       "      <td>3</td>\n",
       "      <td>Allen, Mr. William Henry</td>\n",
       "      <td>male</td>\n",
       "      <td>35.0</td>\n",
       "      <td>0</td>\n",
       "      <td>0</td>\n",
       "      <td>373450</td>\n",
       "      <td>8.0500</td>\n",
       "      <td>NaN</td>\n",
       "      <td>S</td>\n",
       "    </tr>\n",
       "  </tbody>\n",
       "</table>\n",
       "</div>"
      ],
      "text/plain": [
       "   PassengerId  Survived  Pclass  \\\n",
       "0            1         0       3   \n",
       "1            2         1       1   \n",
       "2            3         1       3   \n",
       "3            4         1       1   \n",
       "4            5         0       3   \n",
       "\n",
       "                                                Name     Sex   Age  SibSp  \\\n",
       "0                            Braund, Mr. Owen Harris    male  22.0      1   \n",
       "1  Cumings, Mrs. John Bradley (Florence Briggs Th...  female  38.0      1   \n",
       "2                             Heikkinen, Miss. Laina  female  26.0      0   \n",
       "3       Futrelle, Mrs. Jacques Heath (Lily May Peel)  female  35.0      1   \n",
       "4                           Allen, Mr. William Henry    male  35.0      0   \n",
       "\n",
       "   Parch            Ticket     Fare Cabin Embarked  \n",
       "0      0         A/5 21171   7.2500   NaN        S  \n",
       "1      0          PC 17599  71.2833   C85        C  \n",
       "2      0  STON/O2. 3101282   7.9250   NaN        S  \n",
       "3      0            113803  53.1000  C123        S  \n",
       "4      0            373450   8.0500   NaN        S  "
      ]
     },
     "execution_count": 2,
     "metadata": {},
     "output_type": "execute_result"
    }
   ],
   "source": [
    "# Titanic verilerini Kaggle'dan indirin. Buradaki train.csv dosyasındaki veriler ihtiyacınızı görecektir.\n",
    "\n",
    "titanic = pd.read_csv('titanic_train.csv')\n",
    "titanic.head()"
   ]
  },
  {
   "cell_type": "code",
   "execution_count": 3,
   "metadata": {},
   "outputs": [
    {
     "name": "stdout",
     "output_type": "stream",
     "text": [
      "(891, 12)\n"
     ]
    }
   ],
   "source": [
    "print(titanic.shape)"
   ]
  },
  {
   "cell_type": "code",
   "execution_count": 4,
   "metadata": {},
   "outputs": [
    {
     "name": "stdout",
     "output_type": "stream",
     "text": [
      "<class 'pandas.core.frame.DataFrame'>\n",
      "RangeIndex: 891 entries, 0 to 890\n",
      "Data columns (total 12 columns):\n",
      " #   Column       Non-Null Count  Dtype  \n",
      "---  ------       --------------  -----  \n",
      " 0   PassengerId  891 non-null    int64  \n",
      " 1   Survived     891 non-null    int64  \n",
      " 2   Pclass       891 non-null    int64  \n",
      " 3   Name         891 non-null    object \n",
      " 4   Sex          891 non-null    object \n",
      " 5   Age          714 non-null    float64\n",
      " 6   SibSp        891 non-null    int64  \n",
      " 7   Parch        891 non-null    int64  \n",
      " 8   Ticket       891 non-null    object \n",
      " 9   Fare         891 non-null    float64\n",
      " 10  Cabin        204 non-null    object \n",
      " 11  Embarked     889 non-null    object \n",
      "dtypes: float64(2), int64(5), object(5)\n",
      "memory usage: 83.7+ KB\n"
     ]
    }
   ],
   "source": [
    "titanic.info()"
   ]
  },
  {
   "cell_type": "code",
   "execution_count": 5,
   "metadata": {},
   "outputs": [],
   "source": [
    "titanic = titanic.drop(['Cabin'], axis=1)"
   ]
  },
  {
   "cell_type": "code",
   "execution_count": 6,
   "metadata": {},
   "outputs": [],
   "source": [
    "titanic = titanic.dropna()"
   ]
  },
  {
   "cell_type": "code",
   "execution_count": 7,
   "metadata": {},
   "outputs": [
    {
     "name": "stdout",
     "output_type": "stream",
     "text": [
      "(712, 11)\n"
     ]
    }
   ],
   "source": [
    "print(titanic.shape)"
   ]
  },
  {
   "cell_type": "code",
   "execution_count": 8,
   "metadata": {},
   "outputs": [],
   "source": [
    "titanic['Sex'] = titanic.Sex.replace({'female':1, 'male':0})"
   ]
  },
  {
   "cell_type": "code",
   "execution_count": 10,
   "metadata": {},
   "outputs": [],
   "source": [
    "# Bir onceki odevde kullandigim ilk model uzerinden ilerleyecegim\n",
    "\n",
    "X = titanic[['Age','Sex','Pclass']]\n",
    "Y = titanic.Survived\n",
    "\n",
    "X_egitim,X_test,Y_egitim,Y_test = train_test_split (X,Y,test_size=0.20,random_state=111)\n",
    "\n",
    "titanic_tahmin_modeli = LogisticRegression()\n",
    "titanic_tahmin_modeli.fit(X_egitim, Y_egitim)\n",
    "\n",
    "tahmin_egitim = titanic_tahmin_modeli.predict(X_egitim)\n",
    "tahmin_test = titanic_tahmin_modeli.predict(X_test)"
   ]
  },
  {
   "cell_type": "code",
   "execution_count": 11,
   "metadata": {},
   "outputs": [],
   "source": [
    "tahmin_test_ihtimal = titanic_tahmin_modeli.predict_proba(X_test)[:,1]"
   ]
  },
  {
   "cell_type": "code",
   "execution_count": 13,
   "metadata": {},
   "outputs": [],
   "source": [
    "hata_matrisi_egitim = confusion_matrix(Y_egitim,tahmin_egitim)\n",
    "hata_matrisi_test = confusion_matrix(Y_test,tahmin_test)"
   ]
  },
  {
   "cell_type": "code",
   "execution_count": 14,
   "metadata": {},
   "outputs": [
    {
     "name": "stdout",
     "output_type": "stream",
     "text": [
      "Hata Matrisi (Egitim verileri)\n",
      "------------------------------\n",
      "[[293  53]\n",
      " [ 63 160]]\n",
      "Hata Matrisi (Test verileri)\n",
      "------------------------------\n",
      "[[70  8]\n",
      " [22 43]]\n"
     ]
    }
   ],
   "source": [
    "print(\"Hata Matrisi (Egitim verileri)\", \"-\"*30, hata_matrisi_egitim, sep=\"\\n\")\n",
    "print(\"Hata Matrisi (Test verileri)\", \"-\"*30, hata_matrisi_test, sep=\"\\n\")"
   ]
  },
  {
   "cell_type": "code",
   "execution_count": 15,
   "metadata": {},
   "outputs": [
    {
     "name": "stdout",
     "output_type": "stream",
     "text": [
      "Dogru negatif sayısı   : 70\n",
      "Dogru pozitif sayısı   : 43\n",
      "Yanlıs pozitif sayısı  : 8\n",
      "Yanlıs negatif sayısı  : 22\n"
     ]
    }
   ],
   "source": [
    "TN = hata_matrisi_test[0][0]\n",
    "TP = hata_matrisi_test[1][1]\n",
    "FP = hata_matrisi_test[0][1]\n",
    "FN = hata_matrisi_test[1][0]\n",
    "\n",
    "print(\"Dogru negatif sayısı   :\", TN)\n",
    "print(\"Dogru pozitif sayısı   :\", TP)\n",
    "print(\"Yanlıs pozitif sayısı  :\", FP)\n",
    "print(\"Yanlıs negatif sayısı  :\", FN)"
   ]
  },
  {
   "cell_type": "code",
   "execution_count": 18,
   "metadata": {},
   "outputs": [
    {
     "name": "stdout",
     "output_type": "stream",
     "text": [
      "Modelden alınan doğruluk değeri :  0.7902097902097902\n",
      "Hesaplanan doğruluk değeri      :  0.7902097902097902\n",
      "accuracy_score() değeri         :  0.7902097902097902\n"
     ]
    }
   ],
   "source": [
    "# 1. Dogruluk\n",
    "\n",
    "from sklearn.metrics import accuracy_score\n",
    "\n",
    "print(\"Modelden alınan doğruluk değeri : \",  titanic_tahmin_modeli.score(X_test, Y_test))\n",
    "print(\"Hesaplanan doğruluk değeri      : \",  (TN + TP)/(FN + FP + TN + TP))\n",
    "print(\"accuracy_score() değeri         : \",  accuracy_score(Y_test, tahmin_test))"
   ]
  },
  {
   "cell_type": "code",
   "execution_count": 19,
   "metadata": {},
   "outputs": [],
   "source": [
    "# 2. Hata\n",
    "\n",
    "# Hata orani = 1-dogruluk = 1 - 0.79 = 0.21"
   ]
  },
  {
   "cell_type": "code",
   "execution_count": 21,
   "metadata": {},
   "outputs": [
    {
     "name": "stdout",
     "output_type": "stream",
     "text": [
      "Hesaplanan doğruluk değeri      :  0.8431372549019608\n",
      "precision_score() değeri        :  0.8431372549019608\n"
     ]
    }
   ],
   "source": [
    "# 3. Hassasiyet\n",
    "\n",
    "from sklearn.metrics import precision_score\n",
    "\n",
    "print(\"Hesaplanan doğruluk değeri      : \",  (TP)/(FP + TP))\n",
    "print(\"precision_score() değeri        : \",  precision_score(Y_test, tahmin_test))"
   ]
  },
  {
   "cell_type": "code",
   "execution_count": 22,
   "metadata": {},
   "outputs": [
    {
     "name": "stdout",
     "output_type": "stream",
     "text": [
      "Hesaplanan doğruluk değeri   :  0.6615384615384615\n",
      "recall_score() değeri        :  0.6615384615384615\n"
     ]
    }
   ],
   "source": [
    "# 4. Duyarlilik\n",
    "\n",
    "from sklearn.metrics import recall_score\n",
    "\n",
    "print(\"Hesaplanan doğruluk değeri   : \",  (TP)/(TP + FN))\n",
    "print(\"recall_score() değeri        : \",  recall_score(Y_test, tahmin_test))"
   ]
  },
  {
   "cell_type": "code",
   "execution_count": 23,
   "metadata": {},
   "outputs": [
    {
     "name": "stdout",
     "output_type": "stream",
     "text": [
      "Hesaplanan özgünlük değeri   :  0.8974358974358975\n"
     ]
    }
   ],
   "source": [
    "# 5. Ozgunluk\n",
    "\n",
    "print(\"Hesaplanan özgünlük değeri   : \",  (TN)/(TN + FP))"
   ]
  },
  {
   "cell_type": "code",
   "execution_count": 24,
   "metadata": {},
   "outputs": [
    {
     "name": "stdout",
     "output_type": "stream",
     "text": [
      "Hesaplanan f1 skoru   :  0.7413793103448276\n",
      "f1_score() değeri     :  0.7413793103448276\n"
     ]
    }
   ],
   "source": [
    "# 6. F1 Skoru\n",
    "\n",
    "from sklearn.metrics import f1_score\n",
    "\n",
    "hassasiyet_degeri = precision_score(Y_test, tahmin_test)\n",
    "duyarlılık_değeri = recall_score(Y_test, tahmin_test)\n",
    "\n",
    "\n",
    "print(\"Hesaplanan f1 skoru   : \",  2*((hassasiyet_degeri*duyarlılık_değeri)/(hassasiyet_degeri + duyarlılık_değeri)))\n",
    "print(\"f1_score() değeri     : \",  f1_score(Y_test, tahmin_test))"
   ]
  },
  {
   "cell_type": "code",
   "execution_count": 25,
   "metadata": {},
   "outputs": [],
   "source": [
    "# ROC Egrisi\n",
    "\n",
    "titanic_test_ihtimal = titanic_tahmin_modeli.predict_proba(X_test)[:,1]"
   ]
  },
  {
   "cell_type": "code",
   "execution_count": 26,
   "metadata": {},
   "outputs": [
    {
     "data": {
      "image/png": "[encoded data removed]",
      "text/plain": [
       "<Figure size 432x288 with 1 Axes>"
      ]
     },
     "metadata": {
      "needs_background": "light"
     },
     "output_type": "display_data"
    }
   ],
   "source": [
    "from sklearn.metrics import roc_curve, roc_auc_score\n",
    "\n",
    "fpr, tpr, thresholds  = roc_curve(Y_test, tahmin_test_ihtimal)\n",
    "\n",
    "import matplotlib.pyplot as plt\n",
    "plt.plot([0, 1], [0, 1], 'k--')\n",
    "plt.plot(fpr, tpr)\n",
    "plt.xlabel('False Positive Rate')\n",
    "plt.ylabel('True Positive Rate')\n",
    "plt.title('ROC Curve')\n",
    "plt.show()"
   ]
  },
  {
   "cell_type": "code",
   "execution_count": 27,
   "metadata": {},
   "outputs": [
    {
     "name": "stdout",
     "output_type": "stream",
     "text": [
      "AUC Değeri :  0.8841222879684418\n"
     ]
    }
   ],
   "source": [
    "print('AUC Değeri : ', roc_auc_score(Y_test, tahmin_test_ihtimal))"
   ]
  },
  {
   "cell_type": "code",
   "execution_count": 28,
   "metadata": {},
   "outputs": [
    {
     "data": {
      "image/png": "[encoded data removed]",
      "text/plain": [
       "<Figure size 432x288 with 1 Axes>"
      ]
     },
     "metadata": {
      "needs_background": "light"
     },
     "output_type": "display_data"
    }
   ],
   "source": [
    "# Hassasiyet Egrisi\n",
    "\n",
    "from sklearn.metrics import precision_recall_curve\n",
    "hassasiyet, duyarlılık, _ = precision_recall_curve(Y_test, tahmin_test_ihtimal)\n",
    "\n",
    "plt.plot(duyarlılık, hassasiyet)\n",
    "plt.show()"
   ]
  },
  {
   "cell_type": "code",
   "execution_count": null,
   "metadata": {},
   "outputs": [],
   "source": []
  }
 ],
 "metadata": {
  "kernelspec": {
   "display_name": "Python 3",
   "language": "python",
   "name": "python3"
  },
  "language_info": {
   "codemirror_mode": {
    "name": "ipython",
    "version": 3
   },
   "file_extension": ".py",
   "mimetype": "text/x-python",
   "name": "python",
   "nbconvert_exporter": "python",
   "pygments_lexer": "ipython3",
   "version": "3.8.5"
  }
 },
 "nbformat": 4,
 "nbformat_minor": 2
}
