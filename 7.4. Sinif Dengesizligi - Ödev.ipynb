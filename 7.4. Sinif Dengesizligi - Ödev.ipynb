{
 "cells": [
  {
   "cell_type": "markdown",
   "metadata": {},
   "source": [
    "## 7.4. Sinif Dengesizligi - Odev"
   ]
  },
  {
   "cell_type": "raw",
   "metadata": {},
   "source": [
    "1. Lojistik Regresyon modeli oluşturup modelinizin performansını ölçün,\n",
    "2. Değişik yöntemler ve sınıf oranlarını deneyerek, sınıf dengesizliğinin üstesinden gelin ve performansı en yüksek yöntemi ve sınıflar arası oranı belirleyin."
   ]
  },
  {
   "cell_type": "code",
   "execution_count": 1,
   "metadata": {},
   "outputs": [],
   "source": [
    "import pandas as pd\n",
    "import numpy as np\n",
    "import seaborn as sns\n",
    "import warnings\n",
    "warnings.filterwarnings('ignore')\n",
    "from sklearn.model_selection import train_test_split\n",
    "from sklearn.linear_model import LogisticRegression\n",
    "from sklearn.metrics import confusion_matrix\n",
    "from sklearn.metrics import classification_report"
   ]
  },
  {
   "cell_type": "code",
   "execution_count": 2,
   "metadata": {},
   "outputs": [
    {
     "data": {
      "text/html": [
       "<div>\n",
       "<style scoped>\n",
       "    .dataframe tbody tr th:only-of-type {\n",
       "        vertical-align: middle;\n",
       "    }\n",
       "\n",
       "    .dataframe tbody tr th {\n",
       "        vertical-align: top;\n",
       "    }\n",
       "\n",
       "    .dataframe thead th {\n",
       "        text-align: right;\n",
       "    }\n",
       "</style>\n",
       "<table border=\"1\" class=\"dataframe\">\n",
       "  <thead>\n",
       "    <tr style=\"text-align: right;\">\n",
       "      <th></th>\n",
       "      <th>age</th>\n",
       "      <th>sex</th>\n",
       "      <th>cp</th>\n",
       "      <th>trestbps</th>\n",
       "      <th>chol</th>\n",
       "      <th>fbs</th>\n",
       "      <th>restecg</th>\n",
       "      <th>thalach</th>\n",
       "      <th>exang</th>\n",
       "      <th>oldpeak</th>\n",
       "      <th>slope</th>\n",
       "      <th>ca</th>\n",
       "      <th>thal</th>\n",
       "      <th>num</th>\n",
       "    </tr>\n",
       "  </thead>\n",
       "  <tbody>\n",
       "    <tr>\n",
       "      <th>0</th>\n",
       "      <td>63.0</td>\n",
       "      <td>1.0</td>\n",
       "      <td>1.0</td>\n",
       "      <td>145.0</td>\n",
       "      <td>233.0</td>\n",
       "      <td>1.0</td>\n",
       "      <td>2.0</td>\n",
       "      <td>150.0</td>\n",
       "      <td>0.0</td>\n",
       "      <td>2.3</td>\n",
       "      <td>3.0</td>\n",
       "      <td>0.0</td>\n",
       "      <td>6.0</td>\n",
       "      <td>negative</td>\n",
       "    </tr>\n",
       "    <tr>\n",
       "      <th>1</th>\n",
       "      <td>37.0</td>\n",
       "      <td>1.0</td>\n",
       "      <td>3.0</td>\n",
       "      <td>130.0</td>\n",
       "      <td>250.0</td>\n",
       "      <td>0.0</td>\n",
       "      <td>0.0</td>\n",
       "      <td>187.0</td>\n",
       "      <td>0.0</td>\n",
       "      <td>3.5</td>\n",
       "      <td>3.0</td>\n",
       "      <td>0.0</td>\n",
       "      <td>3.0</td>\n",
       "      <td>negative</td>\n",
       "    </tr>\n",
       "    <tr>\n",
       "      <th>2</th>\n",
       "      <td>41.0</td>\n",
       "      <td>0.0</td>\n",
       "      <td>2.0</td>\n",
       "      <td>130.0</td>\n",
       "      <td>204.0</td>\n",
       "      <td>0.0</td>\n",
       "      <td>2.0</td>\n",
       "      <td>172.0</td>\n",
       "      <td>0.0</td>\n",
       "      <td>1.4</td>\n",
       "      <td>1.0</td>\n",
       "      <td>0.0</td>\n",
       "      <td>3.0</td>\n",
       "      <td>negative</td>\n",
       "    </tr>\n",
       "    <tr>\n",
       "      <th>3</th>\n",
       "      <td>56.0</td>\n",
       "      <td>1.0</td>\n",
       "      <td>2.0</td>\n",
       "      <td>120.0</td>\n",
       "      <td>236.0</td>\n",
       "      <td>0.0</td>\n",
       "      <td>0.0</td>\n",
       "      <td>178.0</td>\n",
       "      <td>0.0</td>\n",
       "      <td>0.8</td>\n",
       "      <td>1.0</td>\n",
       "      <td>0.0</td>\n",
       "      <td>3.0</td>\n",
       "      <td>negative</td>\n",
       "    </tr>\n",
       "    <tr>\n",
       "      <th>4</th>\n",
       "      <td>57.0</td>\n",
       "      <td>0.0</td>\n",
       "      <td>4.0</td>\n",
       "      <td>120.0</td>\n",
       "      <td>354.0</td>\n",
       "      <td>0.0</td>\n",
       "      <td>0.0</td>\n",
       "      <td>163.0</td>\n",
       "      <td>1.0</td>\n",
       "      <td>0.6</td>\n",
       "      <td>1.0</td>\n",
       "      <td>0.0</td>\n",
       "      <td>3.0</td>\n",
       "      <td>negative</td>\n",
       "    </tr>\n",
       "  </tbody>\n",
       "</table>\n",
       "</div>"
      ],
      "text/plain": [
       "    age  sex   cp  trestbps   chol  fbs  restecg  thalach  exang  oldpeak  \\\n",
       "0  63.0  1.0  1.0     145.0  233.0  1.0      2.0    150.0    0.0      2.3   \n",
       "1  37.0  1.0  3.0     130.0  250.0  0.0      0.0    187.0    0.0      3.5   \n",
       "2  41.0  0.0  2.0     130.0  204.0  0.0      2.0    172.0    0.0      1.4   \n",
       "3  56.0  1.0  2.0     120.0  236.0  0.0      0.0    178.0    0.0      0.8   \n",
       "4  57.0  0.0  4.0     120.0  354.0  0.0      0.0    163.0    1.0      0.6   \n",
       "\n",
       "   slope   ca  thal       num  \n",
       "0    3.0  0.0   6.0  negative  \n",
       "1    3.0  0.0   3.0  negative  \n",
       "2    1.0  0.0   3.0  negative  \n",
       "3    1.0  0.0   3.0  negative  \n",
       "4    1.0  0.0   3.0  negative  "
      ]
     },
     "execution_count": 2,
     "metadata": {},
     "output_type": "execute_result"
    }
   ],
   "source": [
    "kanser = pd.read_excel(\"cleveland.xlsx\")\n",
    "kanser.head()"
   ]
  },
  {
   "cell_type": "code",
   "execution_count": 3,
   "metadata": {},
   "outputs": [],
   "source": [
    "kanser['num'] = kanser.num.replace({'positive':1, 'negative':0})"
   ]
  },
  {
   "cell_type": "code",
   "execution_count": 4,
   "metadata": {},
   "outputs": [
    {
     "name": "stdout",
     "output_type": "stream",
     "text": [
      "Kanserli Hasta Orani : %7.51\n",
      "Diger Hasta Orani   : %92.49\n"
     ]
    },
    {
     "data": {
      "image/png": "[encoded data removed]",
      "text/plain": [
       "<Figure size 432x288 with 1 Axes>"
      ]
     },
     "metadata": {
      "needs_background": "light"
     },
     "output_type": "display_data"
    }
   ],
   "source": [
    "sns.countplot(kanser.num)\n",
    "print(\"Kanserli Hasta Orani : %{:.2f}\".format(sum(kanser.num)/len(kanser.num)*100))\n",
    "print(\"Diger Hasta Orani   : %{:.2f}\".format((len(kanser.num)-sum(kanser.num))/len(kanser.num)*100))"
   ]
  },
  {
   "cell_type": "code",
   "execution_count": 5,
   "metadata": {},
   "outputs": [],
   "source": [
    "def model_olustur(X, Y):\n",
    "    X_egitim, X_test, Y_egitim, Y_test =  train_test_split(X, Y, test_size=0.20, random_state=111, stratify = Y)\n",
    "    logreg_model = LogisticRegression()\n",
    "    logreg_model.fit(X_egitim, Y_egitim)\n",
    "\n",
    "    tahmin_egitim = logreg_model.predict(X_egitim)\n",
    "    tahmin_test = logreg_model.predict(X_test)\n",
    "    hata_matrisi_eğitim = confusion_matrix(Y_egitim, tahmin_egitim)\n",
    "    hata_matrisi_test = confusion_matrix(Y_test, tahmin_test)\n",
    "    print(\"Modelin dogruluk degeri : \",  logreg_model.score(X_test, Y_test))\n",
    "    print(\"Egitim veri kümesi\")\n",
    "    print(classification_report(Y_egitim,tahmin_egitim) )\n",
    "    print(\"Test veri kümesi\")\n",
    "    print(classification_report(Y_test,tahmin_test) )\n",
    "    return  None"
   ]
  },
  {
   "cell_type": "code",
   "execution_count": 6,
   "metadata": {},
   "outputs": [
    {
     "name": "stdout",
     "output_type": "stream",
     "text": [
      "Modelin dogruluk degeri :  0.9428571428571428\n",
      "Egitim veri kümesi\n",
      "              precision    recall  f1-score   support\n",
      "\n",
      "           0       0.98      1.00      0.99       128\n",
      "           1       1.00      0.70      0.82        10\n",
      "\n",
      "    accuracy                           0.98       138\n",
      "   macro avg       0.99      0.85      0.91       138\n",
      "weighted avg       0.98      0.98      0.98       138\n",
      "\n",
      "Test veri kümesi\n",
      "              precision    recall  f1-score   support\n",
      "\n",
      "           0       0.94      1.00      0.97        32\n",
      "           1       1.00      0.33      0.50         3\n",
      "\n",
      "    accuracy                           0.94        35\n",
      "   macro avg       0.97      0.67      0.73        35\n",
      "weighted avg       0.95      0.94      0.93        35\n",
      "\n"
     ]
    }
   ],
   "source": [
    "X = kanser.drop('num', axis=1)\n",
    "Y = kanser['num']\n",
    "model_olustur(X,Y)"
   ]
  },
  {
   "cell_type": "markdown",
   "metadata": {},
   "source": [
    "#### 1. Orneklem Arttirma"
   ]
  },
  {
   "cell_type": "code",
   "execution_count": 9,
   "metadata": {},
   "outputs": [
    {
     "data": {
      "text/plain": [
       "1    160\n",
       "0    160\n",
       "Name: num, dtype: int64"
      ]
     },
     "execution_count": 9,
     "metadata": {},
     "output_type": "execute_result"
    }
   ],
   "source": [
    "from sklearn.utils import resample\n",
    "\n",
    "diger_hasta = kanser[kanser.num == 0]\n",
    "kanserli_hasta = kanser[kanser.num == 1]\n",
    "\n",
    "kanserli_hasta_artirilmis = resample(kanserli_hasta,\n",
    "                                     replace = True,\n",
    "                                     n_samples = len(diger_hasta),\n",
    "                                     random_state = 111)\n",
    "\n",
    "artirilmis_kanser = pd.concat([diger_hasta, kanserli_hasta_artirilmis])\n",
    "artirilmis_kanser.num.value_counts()"
   ]
  },
  {
   "cell_type": "code",
   "execution_count": 11,
   "metadata": {},
   "outputs": [
    {
     "name": "stdout",
     "output_type": "stream",
     "text": [
      "Modelin dogruluk degeri :  0.953125\n",
      "Egitim veri kümesi\n",
      "              precision    recall  f1-score   support\n",
      "\n",
      "           0       1.00      0.95      0.98       128\n",
      "           1       0.96      1.00      0.98       128\n",
      "\n",
      "    accuracy                           0.98       256\n",
      "   macro avg       0.98      0.98      0.98       256\n",
      "weighted avg       0.98      0.98      0.98       256\n",
      "\n",
      "Test veri kümesi\n",
      "              precision    recall  f1-score   support\n",
      "\n",
      "           0       1.00      0.91      0.95        32\n",
      "           1       0.91      1.00      0.96        32\n",
      "\n",
      "    accuracy                           0.95        64\n",
      "   macro avg       0.96      0.95      0.95        64\n",
      "weighted avg       0.96      0.95      0.95        64\n",
      "\n"
     ]
    }
   ],
   "source": [
    "X = artirilmis_kanser.drop('num', axis=1)\n",
    "Y = artirilmis_kanser['num']\n",
    "model_olustur(X,Y)"
   ]
  },
  {
   "cell_type": "markdown",
   "metadata": {},
   "source": [
    "#### 2. Orneklem Azaltma"
   ]
  },
  {
   "cell_type": "code",
   "execution_count": 13,
   "metadata": {},
   "outputs": [
    {
     "data": {
      "text/plain": [
       "1    13\n",
       "0    13\n",
       "Name: num, dtype: int64"
      ]
     },
     "execution_count": 13,
     "metadata": {},
     "output_type": "execute_result"
    }
   ],
   "source": [
    "diger_hasta = kanser[kanser.num == 0]\n",
    "kanserli_hasta = kanser[kanser.num == 1]\n",
    "\n",
    "kanserli_hasta_azaltilmis = resample(diger_hasta,\n",
    "                                     replace = True,\n",
    "                                     n_samples = len(kanserli_hasta),\n",
    "                                     random_state = 111)\n",
    "\n",
    "azaltilmis_kanser = pd.concat([kanserli_hasta, kanserli_hasta_azaltilmis])\n",
    "azaltilmis_kanser.num.value_counts()"
   ]
  },
  {
   "cell_type": "code",
   "execution_count": 14,
   "metadata": {},
   "outputs": [
    {
     "name": "stdout",
     "output_type": "stream",
     "text": [
      "Modelin dogruluk degeri :  1.0\n",
      "Egitim veri kümesi\n",
      "              precision    recall  f1-score   support\n",
      "\n",
      "           0       1.00      1.00      1.00        10\n",
      "           1       1.00      1.00      1.00        10\n",
      "\n",
      "    accuracy                           1.00        20\n",
      "   macro avg       1.00      1.00      1.00        20\n",
      "weighted avg       1.00      1.00      1.00        20\n",
      "\n",
      "Test veri kümesi\n",
      "              precision    recall  f1-score   support\n",
      "\n",
      "           0       1.00      1.00      1.00         3\n",
      "           1       1.00      1.00      1.00         3\n",
      "\n",
      "    accuracy                           1.00         6\n",
      "   macro avg       1.00      1.00      1.00         6\n",
      "weighted avg       1.00      1.00      1.00         6\n",
      "\n"
     ]
    }
   ],
   "source": [
    "X = azaltilmis_kanser.drop('num', axis=1)\n",
    "Y = azaltilmis_kanser['num']\n",
    "model_olustur (X,Y)"
   ]
  },
  {
   "cell_type": "markdown",
   "metadata": {},
   "source": [
    "#### 3. Sentetik Ornekler Uretme - SMOTE"
   ]
  },
  {
   "cell_type": "code",
   "execution_count": 16,
   "metadata": {},
   "outputs": [
    {
     "name": "stdout",
     "output_type": "stream",
     "text": [
      "Modelin dogruluk degeri :  0.953125\n",
      "Egitim veri kümesi\n",
      "              precision    recall  f1-score   support\n",
      "\n",
      "           0       1.00      0.96      0.98       128\n",
      "           1       0.96      1.00      0.98       128\n",
      "\n",
      "    accuracy                           0.98       256\n",
      "   macro avg       0.98      0.98      0.98       256\n",
      "weighted avg       0.98      0.98      0.98       256\n",
      "\n",
      "Test veri kümesi\n",
      "              precision    recall  f1-score   support\n",
      "\n",
      "           0       0.97      0.94      0.95        32\n",
      "           1       0.94      0.97      0.95        32\n",
      "\n",
      "    accuracy                           0.95        64\n",
      "   macro avg       0.95      0.95      0.95        64\n",
      "weighted avg       0.95      0.95      0.95        64\n",
      "\n"
     ]
    }
   ],
   "source": [
    "from imblearn.over_sampling import SMOTE\n",
    "\n",
    "X = kanser.drop('num', axis=1)\n",
    "Y = kanser['num']\n",
    "\n",
    "sm = SMOTE(random_state = 27, sampling_strategy = 1.0)\n",
    "X_smote, Y_smote = sm.fit_resample(X,Y)\n",
    "\n",
    "model_olustur(X_smote,Y_smote)"
   ]
  },
  {
   "cell_type": "markdown",
   "metadata": {},
   "source": [
    "#### 4. Sentetik Ornekler Uretme - ADASYN"
   ]
  },
  {
   "cell_type": "code",
   "execution_count": 17,
   "metadata": {},
   "outputs": [
    {
     "name": "stdout",
     "output_type": "stream",
     "text": [
      "Modelin dogruluk degeri :  0.953125\n",
      "Egitim veri kümesi\n",
      "              precision    recall  f1-score   support\n",
      "\n",
      "           0       1.00      0.96      0.98       128\n",
      "           1       0.96      1.00      0.98       127\n",
      "\n",
      "    accuracy                           0.98       255\n",
      "   macro avg       0.98      0.98      0.98       255\n",
      "weighted avg       0.98      0.98      0.98       255\n",
      "\n",
      "Test veri kümesi\n",
      "              precision    recall  f1-score   support\n",
      "\n",
      "           0       1.00      0.91      0.95        32\n",
      "           1       0.91      1.00      0.96        32\n",
      "\n",
      "    accuracy                           0.95        64\n",
      "   macro avg       0.96      0.95      0.95        64\n",
      "weighted avg       0.96      0.95      0.95        64\n",
      "\n"
     ]
    }
   ],
   "source": [
    "from imblearn.over_sampling import ADASYN\n",
    "\n",
    "X = kanser.drop('num',axis=1)\n",
    "Y = kanser['num']\n",
    "\n",
    "ad = ADASYN()\n",
    "X_adasyn, Y_adasyn = ad.fit_resample(X,Y)\n",
    "\n",
    "model_olustur(X_adasyn, Y_adasyn)"
   ]
  },
  {
   "cell_type": "markdown",
   "metadata": {},
   "source": [
    "Model\n",
    "Dogruluk (accuracy): 0.94\n",
    "Hassasiyet (precision): 1.00\n",
    "Duyarlilik (recall): 0.33\n",
    "F1: 0.50\n",
    "\n",
    "Orneklem Arttirma\n",
    "Dogruluk (accuracy): 0.95\n",
    "Hassasiyet (precision): 0.91\n",
    "Duyarlilik (recall): 0.91\n",
    "F1: 0.96\n",
    "\n",
    "Orneklem Azaltma\n",
    "Dogruluk (accuracy): 1.00\n",
    "Hassasiyet (precision): 1.00\n",
    "Duyarlilik (recall): 1.00\n",
    "F1: 1.00\n",
    "\n",
    "SMOTE\n",
    "Dogruluk (accuracy): 0.95\n",
    "Hassasiyet (precision): 0.94\n",
    "Duyarlilik (recall): 0.97\n",
    "F1: 0.95\n",
    "\n",
    "ADASYN\n",
    "Dogruluk (accuracy): 0.95\n",
    "Hassasiyet (precision): 0.91\n",
    "Duyarlilik (recall): 1.00\n",
    "F1: 0.96\n",
    "    \n",
    "Orneklem azaltmanin cok yuksek degerler vermis olmasina ragmen, elimizdeki orneklem sayisi sadece 13+13 oldugu icin\n",
    "bu modelin iyi calistigini dusunmuyorum. Digerlerine baktigimizda SMOTE ve ADASYN algoritmalarinin ikisinin de daha basarili oldugunu soyleyebiliriz."
   ]
  },
  {
   "cell_type": "code",
   "execution_count": null,
   "metadata": {},
   "outputs": [],
   "source": []
  }
 ],
 "metadata": {
  "kernelspec": {
   "display_name": "Python 3",
   "language": "python",
   "name": "python3"
  },
  "language_info": {
   "codemirror_mode": {
    "name": "ipython",
    "version": 3
   },
   "file_extension": ".py",
   "mimetype": "text/x-python",
   "name": "python",
   "nbconvert_exporter": "python",
   "pygments_lexer": "ipython3",
   "version": "3.8.5"
  }
 },
 "nbformat": 4,
 "nbformat_minor": 2
}
